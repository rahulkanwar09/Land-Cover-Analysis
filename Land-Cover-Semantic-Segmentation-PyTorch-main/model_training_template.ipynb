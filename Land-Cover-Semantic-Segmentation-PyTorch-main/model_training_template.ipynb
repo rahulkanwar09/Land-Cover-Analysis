{
 "cells": [
  {
   "cell_type": "code",
   "execution_count": null,
   "metadata": {},
   "outputs": [],
   "source": [
    "import os\n",
    "import sys\n",
    "from typing import List\n",
    "\n",
    "import tensorflow as tf\n",
    "from tensorflow.compat.v1 import ConfigProto\n",
    "from tensorflow.compat.v1 import InteractiveSession\n",
    "\n",
    "config = ConfigProto()\n",
    "config.gpu_options.allow_growth = True\n",
    "session = InteractiveSession(config=config)"
   ]
  },
  {
   "cell_type": "code",
   "execution_count": null,
   "id": "d8810a7e",
   "metadata": {},
   "outputs": [],
   "source": [
    "from src.data.requests_downloader import UrlDownloader\n",
    "from src.features.dataset import Dataset\n",
    "from src.features.metrics import CustomMeanIoU\n",
    "from src.models.model_builder import Model\n",
    "from src.visualization.visualize import PredictionMasks\n",
    "from src.features.evaluation_utils import (\n",
    "    PredictionIoU,\n",
    "    ConfusionMatrix,\n",
    "    HistoryUtilities,\n",
    "    History\n",
    ")\n",
    "from src.features.loss_functions import SemanticSegmentationLoss\n",
    "from tensorflow.keras.callbacks import LearningRateScheduler"
   ]
  },
  {
   "cell_type": "code",
   "execution_count": null,
   "metadata": {},
   "outputs": [],
   "source": [
    "print(f\"TensorFlow Version: {tf.__version__}\")\n",
    "print()\n",
    "print(f\"Python {sys.version}\")\n",
    "gpu = len(tf.config.list_physical_devices('GPU'))>0\n",
    "print(\"GPU is\", \"available\" if gpu else \"NOT AVAILABLE\")"
   ]
  },
  {
   "cell_type": "code",
   "execution_count": null,
   "id": "07420b7d",
   "metadata": {},
   "outputs": [],
   "source": [
    "VERSION = '12.1'\n",
    "\n",
    "BATCH_SIZE = 4\n",
    "IMG_HEIGHT = 512\n",
    "IMG_WIDTH = 512\n",
    "\n",
    "NUM_CLASSES = 5"
   ]
  },
  {
   "cell_type": "code",
   "execution_count": null,
   "outputs": [],
   "source": [
    "PROJECT_PATH = UrlDownloader().get_project_root()\n",
    "if PROJECT_PATH not in sys.path:\n",
    "    sys.path.append(PROJECT_PATH)"
   ],
   "metadata": {
    "collapsed": false
   }
  },
  {
   "cell_type": "markdown",
   "id": "93eccb38",
   "metadata": {},
   "source": [
    "# Load datasets"
   ]
  },
  {
   "cell_type": "code",
   "execution_count": null,
   "metadata": {},
   "outputs": [],
   "source": [
    "UrlDownloader().download_project_preprocessed_dataset()"
   ]
  },
  {
   "cell_type": "code",
   "execution_count": null,
   "id": "465e97b5",
   "metadata": {},
   "outputs": [],
   "source": [
    "DATASET_PATH = os.path.join(PROJECT_PATH, 'data/processed')\n",
    "landcover_dataset = Dataset(DATASET_PATH, IMG_HEIGHT, IMG_WIDTH, NUM_CLASSES, BATCH_SIZE)\n",
    "train_dataset, val_dataset, test_dataset = landcover_dataset.generate_datasets()\n",
    "\n",
    "print(\"Train Dataset:\", train_dataset)\n",
    "print(\"Number of images in Train Dataset:\", BATCH_SIZE * len(train_dataset))\n",
    "print(\"Val Dataset:\", val_dataset)\n",
    "print(\"Number of images in Val Dataset:\", BATCH_SIZE * len(val_dataset))\n",
    "print(\"Test Dataset:\", test_dataset)\n",
    "print(\"Number of images in Val Dataset:\", BATCH_SIZE * len(test_dataset))"
   ]
  },
  {
   "cell_type": "markdown",
   "id": "27281b13",
   "metadata": {},
   "source": [
    "# Class balance "
   ]
  },
  {
   "cell_type": "code",
   "execution_count": null,
   "id": "ca4ffc57",
   "metadata": {
    "scrolled": false
   },
   "outputs": [],
   "source": [
    "landcover_dataset.get_dataframe_of_previously_calculated_class_balance_class_balance().plot.bar(y=\"pixel_count\", xlabel=\"Class name\", ylabel=\"Count\")\n",
    "landcover_dataset.get_dataframe_of_previously_calculated_class_balance_class_balance()"
   ]
  },
  {
   "cell_type": "markdown",
   "id": "51c91706",
   "metadata": {},
   "source": [
    "# Evaluation utilities"
   ]
  },
  {
   "cell_type": "code",
   "execution_count": null,
   "id": "93d76047",
   "metadata": {},
   "outputs": [],
   "source": [
    "custom_mIoU_metric = CustomMeanIoU(num_classes=NUM_CLASSES, name='mIoU')"
   ]
  },
  {
   "cell_type": "markdown",
   "id": "ca7a948e",
   "metadata": {},
   "source": [
    "### Learning rate schedule [optimizer]"
   ]
  },
  {
   "cell_type": "code",
   "execution_count": null,
   "id": "04dab938",
   "metadata": {},
   "outputs": [],
   "source": [
    "# NUM_TRAIN_IMAGES = BATCH_SIZE * len(train_dataset)\n",
    "# NUM_VAL_IMAGES = BATCH_SIZE * len(val_dataset)\n",
    "#\n",
    "# initial_learning_rate = 0.001\n",
    "# learning_rate_decay_factor = 0.94\n",
    "# steps_per_epoch = int(NUM_TRAIN_IMAGES/BATCH_SIZE)\n",
    "\n",
    "\n",
    "\n",
    "# lr_schedule = tf.keras.optimizers.schedules.ExponentialDecay(\n",
    "#                 initial_learning_rate=initial_learning_rate,\n",
    "#                 decay_steps=steps_per_epoch,\n",
    "#                 decay_rate=learning_rate_decay_factor,\n",
    "#                 staircase=True)"
   ]
  },
  {
   "cell_type": "code",
   "execution_count": null,
   "outputs": [],
   "source": [
    "initial_learning_rate = 0.005\n",
    "rate_decay = 0.94\n",
    "\n",
    "def lr_schedule(epoch):\n",
    "    lr = initial_learning_rate * (rate_decay ** (epoch // 2))\n",
    "    return lr\n",
    "\n",
    "learning_rate_callback = LearningRateScheduler(lr_schedule)"
   ],
   "metadata": {
    "collapsed": false
   }
  },
  {
   "cell_type": "markdown",
   "id": "aa1ab5da",
   "metadata": {},
   "source": [
    "### Get current lr [metric]"
   ]
  },
  {
   "cell_type": "code",
   "execution_count": null,
   "id": "c8a20742",
   "metadata": {},
   "outputs": [],
   "source": [
    "# #  https://stackoverflow.com/questions/47490834/how-can-i-print-the-learning-rate-at-each-epoch-with-adam-optimizer-in-keras\n",
    "#\n",
    "# def get_lr_metric(optimizer):\n",
    "#     def lr(y_true, y_pred):\n",
    "#         return optimizer._decayed_lr(tf.float32)\n",
    "#     return lr\n",
    "#\n",
    "# optimizer_adam = tf.keras.optimizers.Adam(learning_rate=lr_schedule)\n",
    "# lr_metric = get_lr_metric(optimizer_adam)"
   ]
  },
  {
   "cell_type": "markdown",
   "id": "49e8b583",
   "metadata": {},
   "source": [
    "## Training settings"
   ]
  },
  {
   "cell_type": "code",
   "execution_count": null,
   "id": "dbd9b7df",
   "metadata": {},
   "outputs": [],
   "source": [
    "# creating a model\n",
    "WEIGHTS = \"cityscapes\"\n",
    "SHOULD_FREEZE_LAYERS = True\n",
    "LAST_LAYER_TO_FREEZE = 359  # All from the begining up to 359 will be frozen\n",
    "ACTIVATION = \"softmax\"\n",
    "DEEPLAB_VERSION = \"deeplabv3plus\"\n",
    "OUTPUT_STRIDE = 16  # or 8\n",
    "\n",
    "# compiling the model\n",
    "OPTIMIZER = tf.keras.optimizers.Adam(\n",
    "    learning_rate=initial_learning_rate,\n",
    "    decay=4e-5\n",
    ")\n",
    "LOSS = SemanticSegmentationLoss(NUM_CLASSES).basnet_hybrid_loss\n",
    "METRICS = [\"accuracy\", custom_mIoU_metric]\n",
    "\n",
    "# training the model\n",
    "EPOCHS = 40\n"
   ]
  },
  {
   "cell_type": "markdown",
   "id": "c685c880",
   "metadata": {},
   "source": [
    "## Training"
   ]
  },
  {
   "cell_type": "markdown",
   "source": [
    " DeepLabv3+ model architecture\n",
    "\n",
    "https://keras.io/examples/vision/deeplabv3_plus/"
   ],
   "metadata": {
    "collapsed": false
   }
  },
  {
   "cell_type": "code",
   "execution_count": null,
   "outputs": [],
   "source": [
    "revision = f\"{VERSION}.1\"\n",
    "revision"
   ],
   "metadata": {
    "collapsed": false
   }
  },
  {
   "cell_type": "code",
   "execution_count": null,
   "outputs": [],
   "source": [
    "deeplab_model = Model(\n",
    "    revision=revision,\n",
    "    batch_size=BATCH_SIZE,\n",
    "    input_image_height=IMG_HEIGHT,\n",
    "    input_image_width=IMG_WIDTH,\n",
    "    number_of_classes=NUM_CLASSES,\n",
    "    pretrained_weights=WEIGHTS,\n",
    "    do_freeze_layers=SHOULD_FREEZE_LAYERS,\n",
    "    last_layer_frozen=LAST_LAYER_TO_FREEZE,\n",
    "    activation=ACTIVATION,\n",
    "    model_architecture=DEEPLAB_VERSION,\n",
    "    output_stride=OUTPUT_STRIDE,\n",
    "    optimizer=OPTIMIZER,\n",
    "    loss_function=LOSS,\n",
    "    metrics=METRICS\n",
    ")\n",
    "deeplab_model.save_model_revision(\n",
    "        initial_learning_rate=initial_learning_rate,\n",
    "        final_learning_rate=None\n",
    ")\n",
    "\n",
    "model = deeplab_model.get_deeplab_model()\n",
    "model.compile(*deeplab_model.get_compile_parameters)\n",
    "\n",
    "# tf.keras.utils.plot_model(model, to_file=data_save_dir + '/Deeplabv3plus_v8_5.jpg', show_shapes=True)"
   ],
   "metadata": {
    "collapsed": false
   }
  },
  {
   "cell_type": "markdown",
   "source": [
    "## Callbacks\n",
    "### Model checkpoint"
   ],
   "metadata": {
    "collapsed": false
   }
  },
  {
   "cell_type": "code",
   "execution_count": null,
   "outputs": [],
   "source": [
    "def create_folders(paths: List[str]):\n",
    "    for path in paths:\n",
    "        if not os.path.exists(path):\n",
    "            os.makedirs(path)"
   ],
   "metadata": {
    "collapsed": false
   }
  },
  {
   "cell_type": "code",
   "execution_count": null,
   "outputs": [],
   "source": [
    "path_best_loss = PROJECT_PATH + f'/data/weights/{deeplab_model.model_architecture}_v{deeplab_model.revision}/best_loss/checkpoint'\n",
    "dir_path_loss= PROJECT_PATH + f'/data/weights/{deeplab_model.model_architecture}_v{deeplab_model.revision}/best_loss'\n",
    "path_best_miou = PROJECT_PATH + f'/data/weights/{deeplab_model.model_architecture}_v{deeplab_model.revision}/best_miou/checkpoint'\n",
    "dir_path_miou = PROJECT_PATH + f'/data/weights/{deeplab_model.model_architecture}_v{deeplab_model.revision}/best_miou'\n",
    "\n",
    "create_folders([\n",
    "    dir_path_loss,\n",
    "    dir_path_miou,\n",
    "])\n",
    "\n",
    "best_val_loss = tf.keras.callbacks.ModelCheckpoint(\n",
    "    path_best_loss,\n",
    "    monitor='val_loss',\n",
    "    verbose=1,\n",
    "    save_best_only=True,\n",
    "    save_weights_only=True,\n",
    "    mode='min',\n",
    "    save_freq='epoch'\n",
    ")\n",
    "\n",
    "best_miou = tf.keras.callbacks.ModelCheckpoint(\n",
    "    path_best_miou,\n",
    "    monitor='val_mIoU',\n",
    "    verbose=1,\n",
    "    save_best_only=True,\n",
    "    save_weights_only=True,\n",
    "    mode='max',\n",
    "    save_freq='epoch'\n",
    ")\n",
    "\n",
    "early_stopping_val_miou = tf.keras.callbacks.EarlyStopping(\n",
    "    monitor='val_mIoU',\n",
    "    patience=2,\n",
    "    mode='max'\n",
    ")\n",
    "\n",
    "CALLBACKS = [\n",
    "    learning_rate_callback,\n",
    "    early_stopping_val_miou,\n",
    "    best_val_loss,\n",
    "    best_miou\n",
    "]"
   ],
   "metadata": {
    "collapsed": false
   }
  },
  {
   "cell_type": "code",
   "execution_count": null,
   "metadata": {},
   "outputs": [],
   "source": [
    "# Train the model\n",
    "history = model.fit(\n",
    "    train_dataset,\n",
    "    validation_data=val_dataset,\n",
    "    epochs=40,\n",
    "    callbacks=CALLBACKS,\n",
    ")\n"
   ]
  },
  {
   "cell_type": "markdown",
   "source": [
    "## Evaluate the model"
   ],
   "metadata": {
    "collapsed": false
   }
  },
  {
   "cell_type": "code",
   "execution_count": null,
   "outputs": [],
   "source": [
    "model.load_weights(path_best_miou)\n",
    "test_eval = model.evaluate(test_dataset)"
   ],
   "metadata": {
    "collapsed": false
   }
  },
  {
   "cell_type": "code",
   "execution_count": null,
   "outputs": [],
   "source": [
    "deeplab_model.update_revision_with_history_and_evaluation(history, test_eval)"
   ],
   "metadata": {
    "collapsed": false
   }
  },
  {
   "cell_type": "code",
   "execution_count": null,
   "outputs": [],
   "source": [
    "iou_every_class = PredictionIoU(model, test_dataset, NUM_CLASSES).get_iou_for_every_class()\n",
    "iou_every_class"
   ],
   "metadata": {
    "collapsed": false
   }
  },
  {
   "cell_type": "code",
   "execution_count": null,
   "outputs": [],
   "source": [
    "# PredictionMasks(model, landcover_dataset, NUM_CLASSES).display_overlay_predictions_for_test_set(4, (25, 25))"
   ],
   "metadata": {
    "collapsed": false
   }
  },
  {
   "cell_type": "markdown",
   "source": [],
   "metadata": {
    "collapsed": false
   }
  },
  {
   "cell_type": "markdown",
   "id": "75ccdccc",
   "metadata": {},
   "source": [
    "### Save history to file"
   ]
  },
  {
   "cell_type": "code",
   "execution_count": null,
   "id": "bff2a581",
   "metadata": {
    "scrolled": false
   },
   "outputs": [],
   "source": [
    "TRAINING_DATA_PATH = PROJECT_PATH + f'/data/results/{deeplab_model.model_architecture}_v{deeplab_model.revision}'\n",
    "\n",
    "# history_utils = HistoryUtilities()\n",
    "# history_utils.dump_model_history_to_file(history, TRAINING_DATA_PATH, \"history.json\")\n",
    "\n",
    "History([history]).display_history_plots(save_folder_path=TRAINING_DATA_PATH)"
   ]
  },
  {
   "cell_type": "markdown",
   "id": "40aed2de",
   "metadata": {},
   "source": [
    "### Confusion matrix"
   ]
  },
  {
   "cell_type": "code",
   "execution_count": null,
   "id": "8f1dec4c",
   "metadata": {
    "scrolled": false
   },
   "outputs": [],
   "source": [
    "class_names = ['background', 'buildings', 'woodland', 'water', 'roads']\n",
    "\n",
    "confusion_matrix = ConfusionMatrix(model, test_dataset, NUM_CLASSES)\n",
    "confusion_matrix.display_confusion_matrix(class_names)"
   ]
  },
  {
   "cell_type": "markdown",
   "id": "f662ebce",
   "metadata": {},
   "source": [
    "# Further training the model\n",
    "## You may change the settings\n",
    "E.g. Freeze less layers, change optimizer's learning rate, add metric, etc."
   ]
  },
  {
   "cell_type": "code",
   "execution_count": null,
   "outputs": [],
   "source": [
    "revision = f\"{VERSION}.2\"\n",
    "revision"
   ],
   "metadata": {
    "collapsed": false
   }
  },
  {
   "cell_type": "code",
   "execution_count": null,
   "outputs": [],
   "source": [
    "initial_learning_rate = 0.0001\n",
    "rate_decay = 0.94\n",
    "\n",
    "def lr_schedule(epoch):\n",
    "    lr = initial_learning_rate * (rate_decay ** (epoch // 2))\n",
    "    return lr\n",
    "\n",
    "learning_rate_callback = LearningRateScheduler(lr_schedule)\n",
    "\n",
    "OPTIMIZER = tf.keras.optimizers.Adam(\n",
    "    learning_rate=initial_learning_rate,\n",
    "    decay=4e-5\n",
    ")"
   ],
   "metadata": {
    "collapsed": false
   }
  },
  {
   "cell_type": "code",
   "execution_count": null,
   "outputs": [],
   "source": [
    "deeplab_model = Model(\n",
    "    revision=revision,\n",
    "    batch_size=BATCH_SIZE,\n",
    "    input_image_height=IMG_HEIGHT,\n",
    "    input_image_width=IMG_WIDTH,\n",
    "    number_of_classes=NUM_CLASSES,\n",
    "    pretrained_weights=WEIGHTS,\n",
    "    do_freeze_layers=SHOULD_FREEZE_LAYERS,\n",
    "    last_layer_frozen=LAST_LAYER_TO_FREEZE-40,  # e.g. freeze 40 layers less\n",
    "    activation=ACTIVATION,\n",
    "    model_architecture=DEEPLAB_VERSION,\n",
    "    output_stride=OUTPUT_STRIDE,\n",
    "    optimizer=OPTIMIZER,\n",
    "    loss_function=LOSS,\n",
    "    metrics=METRICS\n",
    ")\n",
    "\n",
    "deeplab_model.save_model_revision(\n",
    "    initial_learning_rate=initial_learning_rate,\n",
    "    final_learning_rate=None\n",
    ")\n",
    "\n",
    "model = deeplab_model.get_deeplab_model()\n",
    "model.compile(*deeplab_model.get_compile_parameters)\n",
    "model.load_weights(path_best_miou)\n",
    "\n",
    "# tf.keras.utils.plot_model(model, to_file=data_save_dir + '/Deeplabv3plus_v8_5.jpg', show_shapes=True)"
   ],
   "metadata": {
    "collapsed": false
   }
  },
  {
   "cell_type": "code",
   "execution_count": null,
   "outputs": [],
   "source": [
    "path_best_loss = PROJECT_PATH + f'/data/weights/{deeplab_model.model_architecture}_v{deeplab_model.revision}/best_loss/checkpoint'\n",
    "dir_path_loss= PROJECT_PATH + f'/data/weights/{deeplab_model.model_architecture}_v{deeplab_model.revision}/best_loss'\n",
    "path_best_miou = PROJECT_PATH + f'/data/weights/{deeplab_model.model_architecture}_v{deeplab_model.revision}/best_miou/checkpoint'\n",
    "dir_path_miou = PROJECT_PATH + f'/data/weights/{deeplab_model.model_architecture}_v{deeplab_model.revision}/best_miou'\n",
    "\n",
    "create_folders([\n",
    "    dir_path_loss,\n",
    "    dir_path_miou,\n",
    "])\n",
    "\n",
    "best_val_loss = tf.keras.callbacks.ModelCheckpoint(\n",
    "    path_best_loss,\n",
    "    monitor='val_loss',\n",
    "    verbose=1,\n",
    "    save_best_only=True,\n",
    "    save_weights_only=True,\n",
    "    mode='min',\n",
    "    save_freq='epoch'\n",
    ")\n",
    "\n",
    "best_miou = tf.keras.callbacks.ModelCheckpoint(\n",
    "    path_best_miou,\n",
    "    monitor='val_mIoU',\n",
    "    verbose=1,\n",
    "    save_best_only=True,\n",
    "    save_weights_only=True,\n",
    "    mode='max',\n",
    "    save_freq='epoch'\n",
    ")\n",
    "\n",
    "early_stopping_val_miou = tf.keras.callbacks.EarlyStopping(\n",
    "    monitor='val_mIoU',\n",
    "    patience=2,\n",
    "    mode='max'\n",
    ")\n",
    "\n",
    "CALLBACKS = [\n",
    "    learning_rate_callback,\n",
    "    early_stopping_val_miou,\n",
    "    best_val_loss,\n",
    "    best_miou\n",
    "]"
   ],
   "metadata": {
    "collapsed": false
   }
  },
  {
   "cell_type": "code",
   "execution_count": null,
   "id": "f6630f89",
   "metadata": {},
   "outputs": [],
   "source": [
    "# load weights with best results\n",
    "history_2 = model.fit(\n",
    "    train_dataset, \n",
    "    validation_data=val_dataset, \n",
    "    epochs=EPOCHS,\n",
    "    callbacks=CALLBACKS,\n",
    ")"
   ]
  },
  {
   "cell_type": "code",
   "execution_count": null,
   "outputs": [],
   "source": [
    "path_best_miou"
   ],
   "metadata": {
    "collapsed": false
   }
  },
  {
   "cell_type": "markdown",
   "source": [],
   "metadata": {
    "collapsed": false
   }
  },
  {
   "cell_type": "code",
   "execution_count": null,
   "outputs": [],
   "source": [
    "model.load_weights(path_best_miou)\n",
    "test_eval = model.evaluate(test_dataset)"
   ],
   "metadata": {
    "collapsed": false
   }
  },
  {
   "cell_type": "code",
   "execution_count": null,
   "outputs": [],
   "source": [
    "model.load_weights(path_best_loss)\n",
    "test_eval_loss = model.evaluate(test_dataset)"
   ],
   "metadata": {
    "collapsed": false
   }
  },
  {
   "cell_type": "code",
   "execution_count": null,
   "outputs": [],
   "source": [
    "deeplab_model.update_revision_with_history_and_evaluation(history_2, test_eval)"
   ],
   "metadata": {
    "collapsed": false
   }
  },
  {
   "cell_type": "markdown",
   "source": [
    "# Third"
   ],
   "metadata": {
    "collapsed": false
   }
  },
  {
   "cell_type": "code",
   "execution_count": null,
   "outputs": [],
   "source": [
    "revision = f\"{VERSION}.3\"\n",
    "revision"
   ],
   "metadata": {
    "collapsed": false
   }
  },
  {
   "cell_type": "code",
   "execution_count": null,
   "outputs": [],
   "source": [
    "initial_learning_rate = 1e-5\n",
    "rate_decay = 0.90\n",
    "\n",
    "def lr_schedule(epoch):\n",
    "    lr = initial_learning_rate * (rate_decay ** (epoch // 2))\n",
    "    return lr\n",
    "\n",
    "learning_rate_callback = LearningRateScheduler(lr_schedule)\n",
    "\n",
    "OPTIMIZER = tf.keras.optimizers.Adam(\n",
    "    learning_rate=initial_learning_rate,\n",
    "    decay=4e-5\n",
    ")"
   ],
   "metadata": {
    "collapsed": false
   }
  },
  {
   "cell_type": "code",
   "execution_count": null,
   "outputs": [],
   "source": [
    "path_best_loss = PROJECT_PATH + f'/data/weights/{deeplab_model.model_architecture}_v{deeplab_model.revision}/best_loss/checkpoint'\n",
    "dir_path_loss= PROJECT_PATH + f'/data/weights/{deeplab_model.model_architecture}_v{deeplab_model.revision}/best_loss'\n",
    "path_best_miou = PROJECT_PATH + f'/data/weights/{deeplab_model.model_architecture}_v{deeplab_model.revision}/best_miou/checkpoint'\n",
    "dir_path_miou = PROJECT_PATH + f'/data/weights/{deeplab_model.model_architecture}_v{deeplab_model.revision}/best_miou'"
   ],
   "metadata": {
    "collapsed": false
   }
  },
  {
   "cell_type": "code",
   "execution_count": null,
   "outputs": [],
   "source": [
    "deeplab_model = Model(\n",
    "    revision=revision,\n",
    "    batch_size=BATCH_SIZE,\n",
    "    input_image_height=IMG_HEIGHT,\n",
    "    input_image_width=IMG_WIDTH,\n",
    "    number_of_classes=NUM_CLASSES,\n",
    "    pretrained_weights=WEIGHTS,\n",
    "    do_freeze_layers=SHOULD_FREEZE_LAYERS,\n",
    "    last_layer_frozen=LAST_LAYER_TO_FREEZE-80,  # e.g. freeze 40 layers less\n",
    "    activation=ACTIVATION,\n",
    "    model_architecture=DEEPLAB_VERSION,\n",
    "    output_stride=OUTPUT_STRIDE,\n",
    "    optimizer=OPTIMIZER,\n",
    "    loss_function=LOSS,\n",
    "    metrics=METRICS\n",
    ")\n",
    "\n",
    "deeplab_model.save_model_revision(\n",
    "    initial_learning_rate=initial_learning_rate,\n",
    "    final_learning_rate=None\n",
    ")\n",
    "\n",
    "model = deeplab_model.get_deeplab_model()\n",
    "model.compile(*deeplab_model.get_compile_parameters)\n",
    "model.load_weights(path_best_miou)\n",
    "\n",
    "# tf.keras.utils.plot_model(model, to_file=data_save_dir + '/Deeplabv3plus_v8_5.jpg', show_shapes=True)"
   ],
   "metadata": {
    "collapsed": false
   }
  },
  {
   "cell_type": "code",
   "execution_count": null,
   "outputs": [],
   "source": [
    "# create_folders([\n",
    "#     dir_path_loss,\n",
    "#     dir_path_miou,\n",
    "# ])\n",
    "\n",
    "best_val_loss = tf.keras.callbacks.ModelCheckpoint(\n",
    "    path_best_loss,\n",
    "    monitor='val_loss',\n",
    "    verbose=1,\n",
    "    save_best_only=True,\n",
    "    save_weights_only=True,\n",
    "    mode='min',\n",
    "    save_freq='epoch'\n",
    ")\n",
    "\n",
    "best_miou = tf.keras.callbacks.ModelCheckpoint(\n",
    "    path_best_miou,\n",
    "    monitor='val_mIoU',\n",
    "    verbose=1,\n",
    "    save_best_only=True,\n",
    "    save_weights_only=True,\n",
    "    mode='max',\n",
    "    save_freq='epoch'\n",
    ")\n",
    "\n",
    "early_stopping_val_miou = tf.keras.callbacks.EarlyStopping(\n",
    "    monitor='val_mIoU',\n",
    "    patience=3,\n",
    "    mode='max'\n",
    ")\n",
    "\n",
    "CALLBACKS = [\n",
    "    learning_rate_callback,\n",
    "    early_stopping_val_miou,\n",
    "    best_val_loss,\n",
    "    best_miou\n",
    "]"
   ],
   "metadata": {
    "collapsed": false
   }
  },
  {
   "cell_type": "code",
   "execution_count": null,
   "outputs": [],
   "source": [
    "# load weights with best results\n",
    "history_3 = model.fit(\n",
    "    train_dataset,\n",
    "    validation_data=val_dataset,\n",
    "    epochs=EPOCHS,\n",
    "    callbacks=CALLBACKS,\n",
    ")"
   ],
   "metadata": {
    "collapsed": false
   }
  },
  {
   "cell_type": "code",
   "execution_count": null,
   "outputs": [],
   "source": [
    "path_best_miou"
   ],
   "metadata": {
    "collapsed": false
   }
  },
  {
   "cell_type": "markdown",
   "source": [],
   "metadata": {
    "collapsed": false
   }
  },
  {
   "cell_type": "code",
   "execution_count": null,
   "outputs": [],
   "source": [
    "model.load_weights(path_best_miou)\n",
    "test_eval = model.evaluate(test_dataset)"
   ],
   "metadata": {
    "collapsed": false
   }
  },
  {
   "cell_type": "code",
   "execution_count": null,
   "outputs": [],
   "source": [
    "model.load_weights(path_best_loss)\n",
    "test_eval_loss = model.evaluate(test_dataset)"
   ],
   "metadata": {
    "collapsed": false
   }
  },
  {
   "cell_type": "code",
   "execution_count": null,
   "outputs": [],
   "source": [
    "deeplab_model.update_revision_with_history_and_evaluation(history_3, test_eval)"
   ],
   "metadata": {
    "collapsed": false
   }
  },
  {
   "cell_type": "markdown",
   "source": [],
   "metadata": {
    "collapsed": false
   }
  }
 ],
 "metadata": {
  "kernelspec": {
   "display_name": "Python 3",
   "language": "python",
   "name": "python3"
  },
  "language_info": {
   "codemirror_mode": {
    "name": "ipython",
    "version": 3
   },
   "file_extension": ".py",
   "mimetype": "text/x-python",
   "name": "python",
   "nbconvert_exporter": "python",
   "pygments_lexer": "ipython3",
   "version": "3.6.9"
  }
 },
 "nbformat": 4,
 "nbformat_minor": 5
}

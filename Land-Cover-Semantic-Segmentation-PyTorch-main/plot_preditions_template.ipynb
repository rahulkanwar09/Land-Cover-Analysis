{
 "cells": [
  {
   "cell_type": "code",
   "execution_count": null,
   "metadata": {},
   "outputs": [],
   "source": [
    "import os\n",
    "import sys\n",
    "\n",
    "from tensorflow.compat.v1 import ConfigProto\n",
    "from tensorflow.compat.v1 import InteractiveSession\n",
    "from tensorflow import __version__\n",
    "from tensorflow.config import list_physical_devices\n",
    "\n",
    "config = ConfigProto()\n",
    "config.gpu_options.allow_growth = True\n",
    "session = InteractiveSession(config=config)\n",
    "\n",
    "ABS_PATH = %pwd\n",
    "notebook_path = [idx for idx,ch in enumerate(ABS_PATH) if ch=='/']\n",
    "notebooks_level_in_the_project = 1\n",
    "\n",
    "PROJECT_PATH = ABS_PATH[:notebook_path[-notebooks_level_in_the_project]]\n",
    "if PROJECT_PATH not in sys.path:\n",
    "    sys.path.append(PROJECT_PATH)"
   ]
  },
  {
   "cell_type": "code",
   "execution_count": null,
   "metadata": {},
   "outputs": [],
   "source": [
    "from src.data.requests_downloader import UrlDownloader\n",
    "from src.features.dataset import Dataset\n",
    "from src.visualization.visualize import PredictionMasks"
   ]
  },
  {
   "cell_type": "code",
   "execution_count": null,
   "outputs": [],
   "source": [
    "print(f\"TensorFlow Version: {__version__}\")\n",
    "print()\n",
    "print(f\"Python {sys.version}\")\n",
    "gpu = len(list_physical_devices('GPU'))>0\n",
    "print(\"GPU is\", \"available\" if gpu else \"NOT AVAILABLE\")"
   ],
   "metadata": {
    "collapsed": false
   }
  },
  {
   "cell_type": "code",
   "execution_count": null,
   "metadata": {},
   "outputs": [],
   "source": [
    "# # # download best weights when does not exist\n",
    "# downloader = UrlDownloader()\n",
    "#\n",
    "# best_weights_link = \"https://huggingface.co/MortenTabaka/LandcoverSemanticSegmentation/resolve/main/Weights/best_miou_score_weights.zip\"\n",
    "# best_weights_path = os.path.join(downloader.get_project_root(), \"data/weights\")\n",
    "#\n",
    "# downloader.download_single_zip_file(\n",
    "#     url=best_weights_link,\n",
    "#     file_name=\"best_miou_score_weights.zip\",\n",
    "#     output_path=best_weights_path\n",
    "# )"
   ]
  },
  {
   "cell_type": "code",
   "execution_count": null,
   "outputs": [],
   "source": [
    "# download dataset when does not exist (needed to make random predictions on test images)\n",
    "downloader = UrlDownloader()\n",
    "downloader.download_project_preprocessed_dataset()"
   ],
   "metadata": {
    "collapsed": false
   }
  },
  {
   "cell_type": "code",
   "execution_count": null,
   "metadata": {},
   "outputs": [],
   "source": [
    "DATA_DIR = os.path.join(PROJECT_PATH, \"data/processed/\")\n",
    "BATCH_SIZE = 1\n",
    "IMG_HEIGHT = 512\n",
    "IMG_WIDTH = 512\n",
    "NUM_CLASSES = 5\n",
    "\n",
    "landcover_dataset = Dataset(\n",
    "    DATA_DIR, IMG_HEIGHT, IMG_WIDTH, NUM_CLASSES, BATCH_SIZE\n",
    ")\n",
    "model_predictor = PredictionMasks(\n",
    "    landcover_dataset, NUM_CLASSES, \"deeplabv3plus_v5.10.2\"\n",
    ")"
   ]
  },
  {
   "cell_type": "code",
   "execution_count": null,
   "metadata": {},
   "outputs": [],
   "source": [
    "model_predictor.display_overlay_predictions_for_test_set(\n",
    "    how_many_images=5,\n",
    "    figure_size = (18, 4),\n",
    "    randomly=True,\n",
    "    export_to_file=False\n",
    ")"
   ]
  },
  {
   "cell_type": "code",
   "execution_count": null,
   "metadata": {},
   "outputs": [],
   "source": []
  }
 ],
 "metadata": {
  "kernelspec": {
   "display_name": "Python 3",
   "language": "python",
   "name": "python3"
  },
  "language_info": {
   "codemirror_mode": {
    "name": "ipython",
    "version": 3
   },
   "file_extension": ".py",
   "mimetype": "text/x-python",
   "name": "python",
   "nbconvert_exporter": "python",
   "pygments_lexer": "ipython3",
   "version": "3.6.9"
  }
 },
 "nbformat": 4,
 "nbformat_minor": 1
}
